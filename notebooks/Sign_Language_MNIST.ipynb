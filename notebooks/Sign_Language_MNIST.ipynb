{
  "cells": [
    {
      "cell_type": "code",
      "execution_count": null,
      "metadata": {
        "id": "DFcr88k79W-H"
      },
      "outputs": [],
      "source": [
        "import numpy as np\n",
        "import pandas as pd\n",
        "import matplotlib.pyplot as plt\n",
        "\n",
        "from sklearn.model_selection import train_test_split"
      ]
    },
    {
      "cell_type": "code",
      "execution_count": null,
      "metadata": {
        "id": "pW7omFbr9oo9"
      },
      "outputs": [],
      "source": [
        "import tensorflow as tf\n",
        "from tensorflow import keras"
      ]
    },
    {
      "cell_type": "code",
      "execution_count": null,
      "metadata": {
        "colab": {
          "base_uri": "https://localhost:8080/"
        },
        "id": "g4ghxCMH5Bfh",
        "outputId": "75441c91-5831-42d4-e286-c0afcb0e82f3"
      },
      "outputs": [
        {
          "name": "stdout",
          "output_type": "stream",
          "text": [
            "Using Colab cache for faster access to the 'sign-language-mnist' dataset.\n"
          ]
        }
      ],
      "source": [
        "import kagglehub\n",
        "\n",
        "path = kagglehub.dataset_download(\"datamunge/sign-language-mnist\")"
      ]
    },
    {
      "cell_type": "code",
      "execution_count": null,
      "metadata": {
        "id": "yxQNzTy5895W"
      },
      "outputs": [],
      "source": [
        "import os\n",
        "# Construire les chemins complets vers les fichiers\n",
        "path_train = os.path.join(path, \"sign_mnist_train.csv\")\n",
        "path_test  = os.path.join(path, \"sign_mnist_test.csv\")"
      ]
    },
    {
      "cell_type": "code",
      "execution_count": null,
      "metadata": {
        "id": "yLwuKX1f-cbt"
      },
      "outputs": [],
      "source": [
        "def load_sign_images(data_path):\n",
        "  df = pd.read_csv(data_path)\n",
        "  y = df.label.values\n",
        "  # Supprimer la colonne \"label\" pour ne garder que les pixels\n",
        "  # Convertir en tableau numpy de type float32\n",
        "  # Remodeler en tableau de forme (nb_images, 28, 28, 1) → 1 canal (niveaux de gris)\n",
        "  # Normaliser les pixels en divisant par 255 (valeurs entre 0 et 1)\n",
        "  X = df.drop(columns=['label']).values.astype('float32').reshape((-1, 28,28, 1)) / 255.0\n",
        "  return X, y"
      ]
    },
    {
      "cell_type": "code",
      "execution_count": null,
      "metadata": {
        "id": "4Eg3mrqC_7vR"
      },
      "outputs": [],
      "source": [
        "Xtrain , ytrain = load_sign_images(path_train)\n",
        "Xtest , ytest = load_sign_images(path_test)"
      ]
    },
    {
      "cell_type": "code",
      "execution_count": null,
      "metadata": {
        "colab": {
          "base_uri": "https://localhost:8080/"
        },
        "id": "MsIgSFG0A_0o",
        "outputId": "58c891fe-2cfd-4842-fe4a-1e7cb6f2fab2"
      },
      "outputs": [
        {
          "data": {
            "text/plain": [
              "array([ 0,  1,  2,  3,  4,  5,  6,  7,  8, 10, 11, 12, 13, 14, 15, 16, 17,\n",
              "       18, 19, 20, 21, 22, 23, 24])"
            ]
          },
          "execution_count": 7,
          "metadata": {},
          "output_type": "execute_result"
        }
      ],
      "source": [
        "unique_labels = np.unique(ytrain)\n",
        "unique_labels"
      ]
    },
    {
      "cell_type": "code",
      "execution_count": null,
      "metadata": {
        "id": "0edWKKBSBO5S"
      },
      "outputs": [],
      "source": [
        "lab2idx = {\n",
        "    lab: i for i , lab in enumerate(unique_labels)\n",
        "}\n",
        "idx2lab = {\n",
        "    i: lab for lab, i in lab2idx.items()\n",
        "}\n"
      ]
    },
    {
      "cell_type": "code",
      "execution_count": null,
      "metadata": {
        "colab": {
          "base_uri": "https://localhost:8080/"
        },
        "id": "hCsEMsXaH-KH",
        "outputId": "d8139228-a789-487c-93ce-a47e643a75dc"
      },
      "outputs": [
        {
          "name": "stdout",
          "output_type": "stream",
          "text": [
            "Labels manquants dans y_train: set()\n",
            "Labels manquants dans y_test: set()\n"
          ]
        }
      ],
      "source": [
        "missing_labels_train = set(ytrain) - set(lab2idx.keys())\n",
        "missing_labels_test = set(ytest) - set(lab2idx.keys())\n",
        "\n",
        "print(\"Labels manquants dans y_train:\", missing_labels_train)\n",
        "print(\"Labels manquants dans y_test:\", missing_labels_test)"
      ]
    },
    {
      "cell_type": "code",
      "execution_count": null,
      "metadata": {
        "colab": {
          "base_uri": "https://localhost:8080/"
        },
        "id": "hYcD1qNbGlIa",
        "outputId": "b362b974-479f-49d5-cd50-f3702219b9d9"
      },
      "outputs": [
        {
          "data": {
            "text/plain": [
              "{np.int64(0): 0,\n",
              " np.int64(1): 1,\n",
              " np.int64(2): 2,\n",
              " np.int64(3): 3,\n",
              " np.int64(4): 4,\n",
              " np.int64(5): 5,\n",
              " np.int64(6): 6,\n",
              " np.int64(7): 7,\n",
              " np.int64(8): 8,\n",
              " np.int64(10): 9,\n",
              " np.int64(11): 10,\n",
              " np.int64(12): 11,\n",
              " np.int64(13): 12,\n",
              " np.int64(14): 13,\n",
              " np.int64(15): 14,\n",
              " np.int64(16): 15,\n",
              " np.int64(17): 16,\n",
              " np.int64(18): 17,\n",
              " np.int64(19): 18,\n",
              " np.int64(20): 19,\n",
              " np.int64(21): 20,\n",
              " np.int64(22): 21,\n",
              " np.int64(23): 22,\n",
              " np.int64(24): 23}"
            ]
          },
          "execution_count": 10,
          "metadata": {},
          "output_type": "execute_result"
        }
      ],
      "source": [
        "lab2idx"
      ]
    },
    {
      "cell_type": "code",
      "execution_count": null,
      "metadata": {
        "id": "a4rRNtWfEON5"
      },
      "outputs": [],
      "source": [
        "ytrain = np.vectorize(lambda x: lab2idx.get(x, -1))(ytrain)\n",
        "ytest = np.vectorize(lambda x: lab2idx.get(x, -1))(ytest)"
      ]
    },
    {
      "cell_type": "code",
      "execution_count": null,
      "metadata": {
        "id": "0FCPdpEcJ6fW"
      },
      "outputs": [],
      "source": [
        "Xtrain, Xval , ytrain, yval = train_test_split(Xtrain, ytrain, test_size=0.2, random_state=42, shuffle=True)"
      ]
    },
    {
      "cell_type": "code",
      "execution_count": null,
      "metadata": {
        "id": "GEwKqsJiTM0s"
      },
      "outputs": [],
      "source": [
        "data_augmentation = keras.Sequential([\n",
        "    # Retourner aléatoirement horizontalement (effet miroir)\n",
        "    keras.layers.RandomFlip(\"horizontal\"),\n",
        "\n",
        "    # Rotation aléatoire légère (±5%)\n",
        "    keras.layers.RandomRotation(0.05),\n",
        "\n",
        "    # Zoom aléatoire jusqu’à 10%\n",
        "    keras.layers.RandomZoom(0.1),\n",
        "\n",
        "    # Décalage aléatoire en x et y (±5%)\n",
        "    keras.layers.RandomTranslation(0.05, 0.05)\n",
        "])"
      ]
    },
    {
      "cell_type": "code",
      "execution_count": null,
      "metadata": {
        "id": "mucp2k2QKmmT"
      },
      "outputs": [],
      "source": [
        "def build_model_cnn(input_shape=(28,28,1), num_classes=len(ytrain)):\n",
        "  inputs = keras.Input(shape=(28,28,1))\n",
        "\n",
        "  x= inputs\n",
        "  x = data_augmentation(x)\n",
        "\n",
        "  x = keras.layers.Conv2D(32, (3, 3), padding='same', activation='relu')(inputs)\n",
        "  x = keras.layers.MaxPooling2D((2, 2))(x)\n",
        "\n",
        "  x = keras.layers.Conv2D(64, (3, 3), padding='same', activation='relu')(x)\n",
        "  x = keras.layers.MaxPooling2D((2, 2))(x)\n",
        "\n",
        "  x = keras.layers.Conv2D(128, (3, 3), padding='same', activation='relu')(x)\n",
        "  x = keras.layers.MaxPooling2D((2, 2))(x)\n",
        "\n",
        "  x = keras.layers.Flatten()(x)\n",
        "\n",
        "  outputs = keras.layers.Dense(num_classes, activation='softmax')(x)\n",
        "\n",
        "  model = keras.Model(inputs=inputs, outputs=outputs)\n",
        "\n",
        "  model.compile(\n",
        "      optimizer=keras.optimizers.Adam(learning_rate=1e-3),\n",
        "      loss='sparse_categorical_crossentropy',\n",
        "      metrics=['accuracy']\n",
        "  )\n",
        "\n",
        "  return model\n"
      ]
    },
    {
      "cell_type": "code",
      "execution_count": null,
      "metadata": {
        "id": "DAIiEmWoMoAv"
      },
      "outputs": [],
      "source": [
        "model = build_model_cnn()"
      ]
    },
    {
      "cell_type": "code",
      "execution_count": null,
      "metadata": {
        "colab": {
          "base_uri": "https://localhost:8080/",
          "height": 417
        },
        "id": "mgmPtM60Ms0e",
        "outputId": "6a172f8b-5db3-48bc-ef4e-55401e549cd0"
      },
      "outputs": [
        {
          "data": {
            "text/html": [
              "<pre style=\"white-space:pre;overflow-x:auto;line-height:normal;font-family:Menlo,'DejaVu Sans Mono',consolas,'Courier New',monospace\"><span style=\"font-weight: bold\">Model: \"functional_1\"</span>\n",
              "</pre>\n"
            ],
            "text/plain": [
              "\u001b[1mModel: \"functional_1\"\u001b[0m\n"
            ]
          },
          "metadata": {},
          "output_type": "display_data"
        },
        {
          "data": {
            "text/html": [
              "<pre style=\"white-space:pre;overflow-x:auto;line-height:normal;font-family:Menlo,'DejaVu Sans Mono',consolas,'Courier New',monospace\">┏━━━━━━━━━━━━━━━━━━━━━━━━━━━━━━━━━┳━━━━━━━━━━━━━━━━━━━━━━━━┳━━━━━━━━━━━━━━━┓\n",
              "┃<span style=\"font-weight: bold\"> Layer (type)                    </span>┃<span style=\"font-weight: bold\"> Output Shape           </span>┃<span style=\"font-weight: bold\">       Param # </span>┃\n",
              "┡━━━━━━━━━━━━━━━━━━━━━━━━━━━━━━━━━╇━━━━━━━━━━━━━━━━━━━━━━━━╇━━━━━━━━━━━━━━━┩\n",
              "│ input_layer (<span style=\"color: #0087ff; text-decoration-color: #0087ff\">InputLayer</span>)        │ (<span style=\"color: #00d7ff; text-decoration-color: #00d7ff\">None</span>, <span style=\"color: #00af00; text-decoration-color: #00af00\">28</span>, <span style=\"color: #00af00; text-decoration-color: #00af00\">28</span>, <span style=\"color: #00af00; text-decoration-color: #00af00\">1</span>)      │             <span style=\"color: #00af00; text-decoration-color: #00af00\">0</span> │\n",
              "├─────────────────────────────────┼────────────────────────┼───────────────┤\n",
              "│ conv2d (<span style=\"color: #0087ff; text-decoration-color: #0087ff\">Conv2D</span>)                 │ (<span style=\"color: #00d7ff; text-decoration-color: #00d7ff\">None</span>, <span style=\"color: #00af00; text-decoration-color: #00af00\">28</span>, <span style=\"color: #00af00; text-decoration-color: #00af00\">28</span>, <span style=\"color: #00af00; text-decoration-color: #00af00\">32</span>)     │           <span style=\"color: #00af00; text-decoration-color: #00af00\">320</span> │\n",
              "├─────────────────────────────────┼────────────────────────┼───────────────┤\n",
              "│ max_pooling2d (<span style=\"color: #0087ff; text-decoration-color: #0087ff\">MaxPooling2D</span>)    │ (<span style=\"color: #00d7ff; text-decoration-color: #00d7ff\">None</span>, <span style=\"color: #00af00; text-decoration-color: #00af00\">14</span>, <span style=\"color: #00af00; text-decoration-color: #00af00\">14</span>, <span style=\"color: #00af00; text-decoration-color: #00af00\">32</span>)     │             <span style=\"color: #00af00; text-decoration-color: #00af00\">0</span> │\n",
              "├─────────────────────────────────┼────────────────────────┼───────────────┤\n",
              "│ conv2d_1 (<span style=\"color: #0087ff; text-decoration-color: #0087ff\">Conv2D</span>)               │ (<span style=\"color: #00d7ff; text-decoration-color: #00d7ff\">None</span>, <span style=\"color: #00af00; text-decoration-color: #00af00\">14</span>, <span style=\"color: #00af00; text-decoration-color: #00af00\">14</span>, <span style=\"color: #00af00; text-decoration-color: #00af00\">64</span>)     │        <span style=\"color: #00af00; text-decoration-color: #00af00\">18,496</span> │\n",
              "├─────────────────────────────────┼────────────────────────┼───────────────┤\n",
              "│ max_pooling2d_1 (<span style=\"color: #0087ff; text-decoration-color: #0087ff\">MaxPooling2D</span>)  │ (<span style=\"color: #00d7ff; text-decoration-color: #00d7ff\">None</span>, <span style=\"color: #00af00; text-decoration-color: #00af00\">7</span>, <span style=\"color: #00af00; text-decoration-color: #00af00\">7</span>, <span style=\"color: #00af00; text-decoration-color: #00af00\">64</span>)       │             <span style=\"color: #00af00; text-decoration-color: #00af00\">0</span> │\n",
              "├─────────────────────────────────┼────────────────────────┼───────────────┤\n",
              "│ conv2d_2 (<span style=\"color: #0087ff; text-decoration-color: #0087ff\">Conv2D</span>)               │ (<span style=\"color: #00d7ff; text-decoration-color: #00d7ff\">None</span>, <span style=\"color: #00af00; text-decoration-color: #00af00\">7</span>, <span style=\"color: #00af00; text-decoration-color: #00af00\">7</span>, <span style=\"color: #00af00; text-decoration-color: #00af00\">128</span>)      │        <span style=\"color: #00af00; text-decoration-color: #00af00\">73,856</span> │\n",
              "├─────────────────────────────────┼────────────────────────┼───────────────┤\n",
              "│ max_pooling2d_2 (<span style=\"color: #0087ff; text-decoration-color: #0087ff\">MaxPooling2D</span>)  │ (<span style=\"color: #00d7ff; text-decoration-color: #00d7ff\">None</span>, <span style=\"color: #00af00; text-decoration-color: #00af00\">3</span>, <span style=\"color: #00af00; text-decoration-color: #00af00\">3</span>, <span style=\"color: #00af00; text-decoration-color: #00af00\">128</span>)      │             <span style=\"color: #00af00; text-decoration-color: #00af00\">0</span> │\n",
              "├─────────────────────────────────┼────────────────────────┼───────────────┤\n",
              "│ flatten (<span style=\"color: #0087ff; text-decoration-color: #0087ff\">Flatten</span>)               │ (<span style=\"color: #00d7ff; text-decoration-color: #00d7ff\">None</span>, <span style=\"color: #00af00; text-decoration-color: #00af00\">1152</span>)           │             <span style=\"color: #00af00; text-decoration-color: #00af00\">0</span> │\n",
              "├─────────────────────────────────┼────────────────────────┼───────────────┤\n",
              "│ dense (<span style=\"color: #0087ff; text-decoration-color: #0087ff\">Dense</span>)                   │ (<span style=\"color: #00d7ff; text-decoration-color: #00d7ff\">None</span>, <span style=\"color: #00af00; text-decoration-color: #00af00\">21964</span>)          │    <span style=\"color: #00af00; text-decoration-color: #00af00\">25,324,492</span> │\n",
              "└─────────────────────────────────┴────────────────────────┴───────────────┘\n",
              "</pre>\n"
            ],
            "text/plain": [
              "┏━━━━━━━━━━━━━━━━━━━━━━━━━━━━━━━━━┳━━━━━━━━━━━━━━━━━━━━━━━━┳━━━━━━━━━━━━━━━┓\n",
              "┃\u001b[1m \u001b[0m\u001b[1mLayer (type)                   \u001b[0m\u001b[1m \u001b[0m┃\u001b[1m \u001b[0m\u001b[1mOutput Shape          \u001b[0m\u001b[1m \u001b[0m┃\u001b[1m \u001b[0m\u001b[1m      Param #\u001b[0m\u001b[1m \u001b[0m┃\n",
              "┡━━━━━━━━━━━━━━━━━━━━━━━━━━━━━━━━━╇━━━━━━━━━━━━━━━━━━━━━━━━╇━━━━━━━━━━━━━━━┩\n",
              "│ input_layer (\u001b[38;5;33mInputLayer\u001b[0m)        │ (\u001b[38;5;45mNone\u001b[0m, \u001b[38;5;34m28\u001b[0m, \u001b[38;5;34m28\u001b[0m, \u001b[38;5;34m1\u001b[0m)      │             \u001b[38;5;34m0\u001b[0m │\n",
              "├─────────────────────────────────┼────────────────────────┼───────────────┤\n",
              "│ conv2d (\u001b[38;5;33mConv2D\u001b[0m)                 │ (\u001b[38;5;45mNone\u001b[0m, \u001b[38;5;34m28\u001b[0m, \u001b[38;5;34m28\u001b[0m, \u001b[38;5;34m32\u001b[0m)     │           \u001b[38;5;34m320\u001b[0m │\n",
              "├─────────────────────────────────┼────────────────────────┼───────────────┤\n",
              "│ max_pooling2d (\u001b[38;5;33mMaxPooling2D\u001b[0m)    │ (\u001b[38;5;45mNone\u001b[0m, \u001b[38;5;34m14\u001b[0m, \u001b[38;5;34m14\u001b[0m, \u001b[38;5;34m32\u001b[0m)     │             \u001b[38;5;34m0\u001b[0m │\n",
              "├─────────────────────────────────┼────────────────────────┼───────────────┤\n",
              "│ conv2d_1 (\u001b[38;5;33mConv2D\u001b[0m)               │ (\u001b[38;5;45mNone\u001b[0m, \u001b[38;5;34m14\u001b[0m, \u001b[38;5;34m14\u001b[0m, \u001b[38;5;34m64\u001b[0m)     │        \u001b[38;5;34m18,496\u001b[0m │\n",
              "├─────────────────────────────────┼────────────────────────┼───────────────┤\n",
              "│ max_pooling2d_1 (\u001b[38;5;33mMaxPooling2D\u001b[0m)  │ (\u001b[38;5;45mNone\u001b[0m, \u001b[38;5;34m7\u001b[0m, \u001b[38;5;34m7\u001b[0m, \u001b[38;5;34m64\u001b[0m)       │             \u001b[38;5;34m0\u001b[0m │\n",
              "├─────────────────────────────────┼────────────────────────┼───────────────┤\n",
              "│ conv2d_2 (\u001b[38;5;33mConv2D\u001b[0m)               │ (\u001b[38;5;45mNone\u001b[0m, \u001b[38;5;34m7\u001b[0m, \u001b[38;5;34m7\u001b[0m, \u001b[38;5;34m128\u001b[0m)      │        \u001b[38;5;34m73,856\u001b[0m │\n",
              "├─────────────────────────────────┼────────────────────────┼───────────────┤\n",
              "│ max_pooling2d_2 (\u001b[38;5;33mMaxPooling2D\u001b[0m)  │ (\u001b[38;5;45mNone\u001b[0m, \u001b[38;5;34m3\u001b[0m, \u001b[38;5;34m3\u001b[0m, \u001b[38;5;34m128\u001b[0m)      │             \u001b[38;5;34m0\u001b[0m │\n",
              "├─────────────────────────────────┼────────────────────────┼───────────────┤\n",
              "│ flatten (\u001b[38;5;33mFlatten\u001b[0m)               │ (\u001b[38;5;45mNone\u001b[0m, \u001b[38;5;34m1152\u001b[0m)           │             \u001b[38;5;34m0\u001b[0m │\n",
              "├─────────────────────────────────┼────────────────────────┼───────────────┤\n",
              "│ dense (\u001b[38;5;33mDense\u001b[0m)                   │ (\u001b[38;5;45mNone\u001b[0m, \u001b[38;5;34m21964\u001b[0m)          │    \u001b[38;5;34m25,324,492\u001b[0m │\n",
              "└─────────────────────────────────┴────────────────────────┴───────────────┘\n"
            ]
          },
          "metadata": {},
          "output_type": "display_data"
        },
        {
          "data": {
            "text/html": [
              "<pre style=\"white-space:pre;overflow-x:auto;line-height:normal;font-family:Menlo,'DejaVu Sans Mono',consolas,'Courier New',monospace\"><span style=\"font-weight: bold\"> Total params: </span><span style=\"color: #00af00; text-decoration-color: #00af00\">25,417,164</span> (96.96 MB)\n",
              "</pre>\n"
            ],
            "text/plain": [
              "\u001b[1m Total params: \u001b[0m\u001b[38;5;34m25,417,164\u001b[0m (96.96 MB)\n"
            ]
          },
          "metadata": {},
          "output_type": "display_data"
        },
        {
          "data": {
            "text/html": [
              "<pre style=\"white-space:pre;overflow-x:auto;line-height:normal;font-family:Menlo,'DejaVu Sans Mono',consolas,'Courier New',monospace\"><span style=\"font-weight: bold\"> Trainable params: </span><span style=\"color: #00af00; text-decoration-color: #00af00\">25,417,164</span> (96.96 MB)\n",
              "</pre>\n"
            ],
            "text/plain": [
              "\u001b[1m Trainable params: \u001b[0m\u001b[38;5;34m25,417,164\u001b[0m (96.96 MB)\n"
            ]
          },
          "metadata": {},
          "output_type": "display_data"
        },
        {
          "data": {
            "text/html": [
              "<pre style=\"white-space:pre;overflow-x:auto;line-height:normal;font-family:Menlo,'DejaVu Sans Mono',consolas,'Courier New',monospace\"><span style=\"font-weight: bold\"> Non-trainable params: </span><span style=\"color: #00af00; text-decoration-color: #00af00\">0</span> (0.00 B)\n",
              "</pre>\n"
            ],
            "text/plain": [
              "\u001b[1m Non-trainable params: \u001b[0m\u001b[38;5;34m0\u001b[0m (0.00 B)\n"
            ]
          },
          "metadata": {},
          "output_type": "display_data"
        }
      ],
      "source": [
        "model.summary()"
      ]
    },
    {
      "cell_type": "code",
      "execution_count": null,
      "metadata": {
        "id": "3LL1t0zjRXby"
      },
      "outputs": [],
      "source": [
        "callbacks = [\n",
        "        # Réduction du learning rate quand la loss stagne\n",
        "        keras.callbacks.ReduceLROnPlateau(\n",
        "            monitor='val_loss',\n",
        "            factor=0.2,\n",
        "            patience=5,\n",
        "            min_lr=0.0001,\n",
        "            verbose=1\n",
        "        ),\n",
        "\n",
        "        # Early stopping pour éviter l'overfitting\n",
        "        keras.callbacks.EarlyStopping(\n",
        "            monitor='val_loss',\n",
        "            patience=10,\n",
        "            restore_best_weights=True,\n",
        "            verbose=1\n",
        "        ),\n",
        "\n",
        "        # Sauvegarde du meilleur modèle\n",
        "        keras.callbacks.ModelCheckpoint(\n",
        "            'best_model.keras',\n",
        "            monitor='val_accuracy',\n",
        "            save_best_only=True,\n",
        "            verbose=1\n",
        "        )\n",
        "        ]"
      ]
    },
    {
      "cell_type": "code",
      "execution_count": null,
      "metadata": {
        "colab": {
          "base_uri": "https://localhost:8080/"
        },
        "id": "6blul2WdMvxU",
        "outputId": "e731fe23-f09e-41b9-db7f-ad469c44a9b7"
      },
      "outputs": [
        {
          "name": "stdout",
          "output_type": "stream",
          "text": [
            "Epoch 1/50\n",
            "\u001b[1m172/172\u001b[0m \u001b[32m━━━━━━━━━━━━━━━━━━━━\u001b[0m\u001b[37m\u001b[0m \u001b[1m0s\u001b[0m 24ms/step - accuracy: 0.0726 - loss: 4.2815\n",
            "Epoch 1: val_accuracy improved from -inf to 0.48789, saving model to best_model.keras\n",
            "\u001b[1m172/172\u001b[0m \u001b[32m━━━━━━━━━━━━━━━━━━━━\u001b[0m\u001b[37m\u001b[0m \u001b[1m16s\u001b[0m 62ms/step - accuracy: 0.0730 - loss: 4.2750 - val_accuracy: 0.4879 - val_loss: 1.6624 - learning_rate: 0.0010\n",
            "Epoch 2/50\n",
            "\u001b[1m169/172\u001b[0m \u001b[32m━━━━━━━━━━━━━━━━━━━\u001b[0m\u001b[37m━\u001b[0m \u001b[1m0s\u001b[0m 13ms/step - accuracy: 0.6513 - loss: 1.1289\n",
            "Epoch 2: val_accuracy improved from 0.48789 to 0.87762, saving model to best_model.keras\n",
            "\u001b[1m172/172\u001b[0m \u001b[32m━━━━━━━━━━━━━━━━━━━━\u001b[0m\u001b[37m\u001b[0m \u001b[1m4s\u001b[0m 23ms/step - accuracy: 0.6537 - loss: 1.1209 - val_accuracy: 0.8776 - val_loss: 0.3740 - learning_rate: 0.0010\n",
            "Epoch 3/50\n",
            "\u001b[1m169/172\u001b[0m \u001b[32m━━━━━━━━━━━━━━━━━━━\u001b[0m\u001b[37m━\u001b[0m \u001b[1m0s\u001b[0m 13ms/step - accuracy: 0.9102 - loss: 0.2807\n",
            "Epoch 3: val_accuracy improved from 0.87762 to 0.97232, saving model to best_model.keras\n",
            "\u001b[1m172/172\u001b[0m \u001b[32m━━━━━━━━━━━━━━━━━━━━\u001b[0m\u001b[37m\u001b[0m \u001b[1m5s\u001b[0m 23ms/step - accuracy: 0.9108 - loss: 0.2793 - val_accuracy: 0.9723 - val_loss: 0.1092 - learning_rate: 0.0010\n",
            "Epoch 4/50\n",
            "\u001b[1m168/172\u001b[0m \u001b[32m━━━━━━━━━━━━━━━━━━━\u001b[0m\u001b[37m━\u001b[0m \u001b[1m0s\u001b[0m 13ms/step - accuracy: 0.9799 - loss: 0.0830\n",
            "Epoch 4: val_accuracy improved from 0.97232 to 0.99290, saving model to best_model.keras\n",
            "\u001b[1m172/172\u001b[0m \u001b[32m━━━━━━━━━━━━━━━━━━━━\u001b[0m\u001b[37m\u001b[0m \u001b[1m5s\u001b[0m 24ms/step - accuracy: 0.9801 - loss: 0.0826 - val_accuracy: 0.9929 - val_loss: 0.0462 - learning_rate: 0.0010\n",
            "Epoch 5/50\n",
            "\u001b[1m170/172\u001b[0m \u001b[32m━━━━━━━━━━━━━━━━━━━\u001b[0m\u001b[37m━\u001b[0m \u001b[1m0s\u001b[0m 12ms/step - accuracy: 0.9943 - loss: 0.0367\n",
            "Epoch 5: val_accuracy improved from 0.99290 to 0.99891, saving model to best_model.keras\n",
            "\u001b[1m172/172\u001b[0m \u001b[32m━━━━━━━━━━━━━━━━━━━━\u001b[0m\u001b[37m\u001b[0m \u001b[1m6s\u001b[0m 36ms/step - accuracy: 0.9944 - loss: 0.0365 - val_accuracy: 0.9989 - val_loss: 0.0139 - learning_rate: 0.0010\n",
            "Epoch 6/50\n",
            "\u001b[1m172/172\u001b[0m \u001b[32m━━━━━━━━━━━━━━━━━━━━\u001b[0m\u001b[37m\u001b[0m \u001b[1m0s\u001b[0m 13ms/step - accuracy: 0.9995 - loss: 0.0119\n",
            "Epoch 6: val_accuracy did not improve from 0.99891\n",
            "\u001b[1m172/172\u001b[0m \u001b[32m━━━━━━━━━━━━━━━━━━━━\u001b[0m\u001b[37m\u001b[0m \u001b[1m6s\u001b[0m 14ms/step - accuracy: 0.9994 - loss: 0.0119 - val_accuracy: 0.9962 - val_loss: 0.0161 - learning_rate: 0.0010\n",
            "Epoch 7/50\n",
            "\u001b[1m169/172\u001b[0m \u001b[32m━━━━━━━━━━━━━━━━━━━\u001b[0m\u001b[37m━\u001b[0m \u001b[1m0s\u001b[0m 12ms/step - accuracy: 0.9997 - loss: 0.0101\n",
            "Epoch 7: val_accuracy improved from 0.99891 to 0.99982, saving model to best_model.keras\n",
            "\u001b[1m172/172\u001b[0m \u001b[32m━━━━━━━━━━━━━━━━━━━━\u001b[0m\u001b[37m\u001b[0m \u001b[1m4s\u001b[0m 23ms/step - accuracy: 0.9997 - loss: 0.0100 - val_accuracy: 0.9998 - val_loss: 0.0050 - learning_rate: 0.0010\n",
            "Epoch 8/50\n",
            "\u001b[1m168/172\u001b[0m \u001b[32m━━━━━━━━━━━━━━━━━━━\u001b[0m\u001b[37m━\u001b[0m \u001b[1m0s\u001b[0m 13ms/step - accuracy: 0.9996 - loss: 0.0043\n",
            "Epoch 8: val_accuracy did not improve from 0.99982\n",
            "\u001b[1m172/172\u001b[0m \u001b[32m━━━━━━━━━━━━━━━━━━━━\u001b[0m\u001b[37m\u001b[0m \u001b[1m4s\u001b[0m 15ms/step - accuracy: 0.9996 - loss: 0.0043 - val_accuracy: 0.9998 - val_loss: 0.0043 - learning_rate: 0.0010\n",
            "Epoch 9/50\n",
            "\u001b[1m169/172\u001b[0m \u001b[32m━━━━━━━━━━━━━━━━━━━\u001b[0m\u001b[37m━\u001b[0m \u001b[1m0s\u001b[0m 13ms/step - accuracy: 1.0000 - loss: 0.0024\n",
            "Epoch 9: val_accuracy improved from 0.99982 to 1.00000, saving model to best_model.keras\n",
            "\u001b[1m172/172\u001b[0m \u001b[32m━━━━━━━━━━━━━━━━━━━━\u001b[0m\u001b[37m\u001b[0m \u001b[1m4s\u001b[0m 23ms/step - accuracy: 1.0000 - loss: 0.0024 - val_accuracy: 1.0000 - val_loss: 0.0024 - learning_rate: 0.0010\n",
            "Epoch 10/50\n",
            "\u001b[1m168/172\u001b[0m \u001b[32m━━━━━━━━━━━━━━━━━━━\u001b[0m\u001b[37m━\u001b[0m \u001b[1m0s\u001b[0m 12ms/step - accuracy: 1.0000 - loss: 0.0016\n",
            "Epoch 10: val_accuracy did not improve from 1.00000\n",
            "\u001b[1m172/172\u001b[0m \u001b[32m━━━━━━━━━━━━━━━━━━━━\u001b[0m\u001b[37m\u001b[0m \u001b[1m2s\u001b[0m 14ms/step - accuracy: 1.0000 - loss: 0.0016 - val_accuracy: 1.0000 - val_loss: 0.0016 - learning_rate: 0.0010\n",
            "Epoch 11/50\n",
            "\u001b[1m170/172\u001b[0m \u001b[32m━━━━━━━━━━━━━━━━━━━\u001b[0m\u001b[37m━\u001b[0m \u001b[1m0s\u001b[0m 12ms/step - accuracy: 1.0000 - loss: 0.0012\n",
            "Epoch 11: val_accuracy did not improve from 1.00000\n",
            "\u001b[1m172/172\u001b[0m \u001b[32m━━━━━━━━━━━━━━━━━━━━\u001b[0m\u001b[37m\u001b[0m \u001b[1m3s\u001b[0m 15ms/step - accuracy: 1.0000 - loss: 0.0012 - val_accuracy: 1.0000 - val_loss: 0.0014 - learning_rate: 0.0010\n",
            "Epoch 12/50\n",
            "\u001b[1m169/172\u001b[0m \u001b[32m━━━━━━━━━━━━━━━━━━━\u001b[0m\u001b[37m━\u001b[0m \u001b[1m0s\u001b[0m 12ms/step - accuracy: 1.0000 - loss: 9.1775e-04\n",
            "Epoch 12: val_accuracy did not improve from 1.00000\n",
            "\u001b[1m172/172\u001b[0m \u001b[32m━━━━━━━━━━━━━━━━━━━━\u001b[0m\u001b[37m\u001b[0m \u001b[1m2s\u001b[0m 14ms/step - accuracy: 1.0000 - loss: 9.1825e-04 - val_accuracy: 1.0000 - val_loss: 0.0012 - learning_rate: 0.0010\n",
            "Epoch 13/50\n",
            "\u001b[1m171/172\u001b[0m \u001b[32m━━━━━━━━━━━━━━━━━━━\u001b[0m\u001b[37m━\u001b[0m \u001b[1m0s\u001b[0m 13ms/step - accuracy: 0.9997 - loss: 0.0020\n",
            "Epoch 13: val_accuracy did not improve from 1.00000\n",
            "\u001b[1m172/172\u001b[0m \u001b[32m━━━━━━━━━━━━━━━━━━━━\u001b[0m\u001b[37m\u001b[0m \u001b[1m3s\u001b[0m 15ms/step - accuracy: 0.9997 - loss: 0.0020 - val_accuracy: 0.9843 - val_loss: 0.0481 - learning_rate: 0.0010\n",
            "Epoch 14/50\n",
            "\u001b[1m172/172\u001b[0m \u001b[32m━━━━━━━━━━━━━━━━━━━━\u001b[0m\u001b[37m\u001b[0m \u001b[1m0s\u001b[0m 13ms/step - accuracy: 0.9812 - loss: 0.0602\n",
            "Epoch 14: val_accuracy did not improve from 1.00000\n",
            "\u001b[1m172/172\u001b[0m \u001b[32m━━━━━━━━━━━━━━━━━━━━\u001b[0m\u001b[37m\u001b[0m \u001b[1m5s\u001b[0m 15ms/step - accuracy: 0.9813 - loss: 0.0601 - val_accuracy: 0.9995 - val_loss: 0.0030 - learning_rate: 0.0010\n",
            "Epoch 15/50\n",
            "\u001b[1m168/172\u001b[0m \u001b[32m━━━━━━━━━━━━━━━━━━━\u001b[0m\u001b[37m━\u001b[0m \u001b[1m0s\u001b[0m 13ms/step - accuracy: 0.9999 - loss: 0.0014\n",
            "Epoch 15: val_accuracy did not improve from 1.00000\n",
            "\u001b[1m172/172\u001b[0m \u001b[32m━━━━━━━━━━━━━━━━━━━━\u001b[0m\u001b[37m\u001b[0m \u001b[1m5s\u001b[0m 16ms/step - accuracy: 0.9999 - loss: 0.0014 - val_accuracy: 1.0000 - val_loss: 7.6372e-04 - learning_rate: 0.0010\n",
            "Epoch 16/50\n",
            "\u001b[1m169/172\u001b[0m \u001b[32m━━━━━━━━━━━━━━━━━━━\u001b[0m\u001b[37m━\u001b[0m \u001b[1m0s\u001b[0m 13ms/step - accuracy: 1.0000 - loss: 5.8755e-04\n",
            "Epoch 16: val_accuracy did not improve from 1.00000\n",
            "\u001b[1m172/172\u001b[0m \u001b[32m━━━━━━━━━━━━━━━━━━━━\u001b[0m\u001b[37m\u001b[0m \u001b[1m3s\u001b[0m 16ms/step - accuracy: 1.0000 - loss: 5.8561e-04 - val_accuracy: 1.0000 - val_loss: 6.0374e-04 - learning_rate: 0.0010\n",
            "Epoch 17/50\n",
            "\u001b[1m168/172\u001b[0m \u001b[32m━━━━━━━━━━━━━━━━━━━\u001b[0m\u001b[37m━\u001b[0m \u001b[1m0s\u001b[0m 13ms/step - accuracy: 1.0000 - loss: 4.0139e-04\n",
            "Epoch 17: val_accuracy did not improve from 1.00000\n",
            "\u001b[1m172/172\u001b[0m \u001b[32m━━━━━━━━━━━━━━━━━━━━\u001b[0m\u001b[37m\u001b[0m \u001b[1m3s\u001b[0m 15ms/step - accuracy: 1.0000 - loss: 4.0060e-04 - val_accuracy: 1.0000 - val_loss: 4.9986e-04 - learning_rate: 0.0010\n",
            "Epoch 18/50\n",
            "\u001b[1m169/172\u001b[0m \u001b[32m━━━━━━━━━━━━━━━━━━━\u001b[0m\u001b[37m━\u001b[0m \u001b[1m0s\u001b[0m 13ms/step - accuracy: 1.0000 - loss: 3.1845e-04\n",
            "Epoch 18: val_accuracy did not improve from 1.00000\n",
            "\u001b[1m172/172\u001b[0m \u001b[32m━━━━━━━━━━━━━━━━━━━━\u001b[0m\u001b[37m\u001b[0m \u001b[1m3s\u001b[0m 15ms/step - accuracy: 1.0000 - loss: 3.1794e-04 - val_accuracy: 1.0000 - val_loss: 3.8746e-04 - learning_rate: 0.0010\n",
            "Epoch 19/50\n",
            "\u001b[1m169/172\u001b[0m \u001b[32m━━━━━━━━━━━━━━━━━━━\u001b[0m\u001b[37m━\u001b[0m \u001b[1m0s\u001b[0m 13ms/step - accuracy: 1.0000 - loss: 2.4740e-04\n",
            "Epoch 19: val_accuracy did not improve from 1.00000\n",
            "\u001b[1m172/172\u001b[0m \u001b[32m━━━━━━━━━━━━━━━━━━━━\u001b[0m\u001b[37m\u001b[0m \u001b[1m3s\u001b[0m 15ms/step - accuracy: 1.0000 - loss: 2.4729e-04 - val_accuracy: 1.0000 - val_loss: 3.2739e-04 - learning_rate: 0.0010\n",
            "Epoch 20/50\n",
            "\u001b[1m172/172\u001b[0m \u001b[32m━━━━━━━━━━━━━━━━━━━━\u001b[0m\u001b[37m\u001b[0m \u001b[1m0s\u001b[0m 13ms/step - accuracy: 1.0000 - loss: 2.1685e-04\n",
            "Epoch 20: val_accuracy did not improve from 1.00000\n",
            "\u001b[1m172/172\u001b[0m \u001b[32m━━━━━━━━━━━━━━━━━━━━\u001b[0m\u001b[37m\u001b[0m \u001b[1m3s\u001b[0m 15ms/step - accuracy: 1.0000 - loss: 2.1678e-04 - val_accuracy: 1.0000 - val_loss: 2.9908e-04 - learning_rate: 0.0010\n",
            "Epoch 21/50\n",
            "\u001b[1m170/172\u001b[0m \u001b[32m━━━━━━━━━━━━━━━━━━━\u001b[0m\u001b[37m━\u001b[0m \u001b[1m0s\u001b[0m 13ms/step - accuracy: 1.0000 - loss: 1.7614e-04\n",
            "Epoch 21: val_accuracy did not improve from 1.00000\n",
            "\u001b[1m172/172\u001b[0m \u001b[32m━━━━━━━━━━━━━━━━━━━━\u001b[0m\u001b[37m\u001b[0m \u001b[1m5s\u001b[0m 15ms/step - accuracy: 1.0000 - loss: 1.7617e-04 - val_accuracy: 1.0000 - val_loss: 2.9689e-04 - learning_rate: 0.0010\n",
            "Epoch 22/50\n",
            "\u001b[1m171/172\u001b[0m \u001b[32m━━━━━━━━━━━━━━━━━━━\u001b[0m\u001b[37m━\u001b[0m \u001b[1m0s\u001b[0m 12ms/step - accuracy: 1.0000 - loss: 1.5764e-04\n",
            "Epoch 22: val_accuracy did not improve from 1.00000\n",
            "\u001b[1m172/172\u001b[0m \u001b[32m━━━━━━━━━━━━━━━━━━━━\u001b[0m\u001b[37m\u001b[0m \u001b[1m3s\u001b[0m 15ms/step - accuracy: 1.0000 - loss: 1.5759e-04 - val_accuracy: 1.0000 - val_loss: 2.5119e-04 - learning_rate: 0.0010\n",
            "Epoch 23/50\n",
            "\u001b[1m168/172\u001b[0m \u001b[32m━━━━━━━━━━━━━━━━━━━\u001b[0m\u001b[37m━\u001b[0m \u001b[1m0s\u001b[0m 12ms/step - accuracy: 1.0000 - loss: 1.3686e-04\n",
            "Epoch 23: val_accuracy did not improve from 1.00000\n",
            "\u001b[1m172/172\u001b[0m \u001b[32m━━━━━━━━━━━━━━━━━━━━\u001b[0m\u001b[37m\u001b[0m \u001b[1m2s\u001b[0m 14ms/step - accuracy: 1.0000 - loss: 1.3670e-04 - val_accuracy: 1.0000 - val_loss: 2.2001e-04 - learning_rate: 0.0010\n",
            "Epoch 24/50\n",
            "\u001b[1m170/172\u001b[0m \u001b[32m━━━━━━━━━━━━━━━━━━━\u001b[0m\u001b[37m━\u001b[0m \u001b[1m0s\u001b[0m 13ms/step - accuracy: 1.0000 - loss: 1.1019e-04\n",
            "Epoch 24: val_accuracy did not improve from 1.00000\n",
            "\u001b[1m172/172\u001b[0m \u001b[32m━━━━━━━━━━━━━━━━━━━━\u001b[0m\u001b[37m\u001b[0m \u001b[1m3s\u001b[0m 16ms/step - accuracy: 1.0000 - loss: 1.1028e-04 - val_accuracy: 1.0000 - val_loss: 1.8613e-04 - learning_rate: 0.0010\n",
            "Epoch 25/50\n",
            "\u001b[1m171/172\u001b[0m \u001b[32m━━━━━━━━━━━━━━━━━━━\u001b[0m\u001b[37m━\u001b[0m \u001b[1m0s\u001b[0m 13ms/step - accuracy: 1.0000 - loss: 9.8883e-05\n",
            "Epoch 25: val_accuracy did not improve from 1.00000\n",
            "\u001b[1m172/172\u001b[0m \u001b[32m━━━━━━━━━━━━━━━━━━━━\u001b[0m\u001b[37m\u001b[0m \u001b[1m5s\u001b[0m 15ms/step - accuracy: 1.0000 - loss: 9.8915e-05 - val_accuracy: 1.0000 - val_loss: 2.0228e-04 - learning_rate: 0.0010\n",
            "Epoch 26/50\n",
            "\u001b[1m170/172\u001b[0m \u001b[32m━━━━━━━━━━━━━━━━━━━\u001b[0m\u001b[37m━\u001b[0m \u001b[1m0s\u001b[0m 12ms/step - accuracy: 1.0000 - loss: 9.4703e-05\n",
            "Epoch 26: val_accuracy did not improve from 1.00000\n",
            "\u001b[1m172/172\u001b[0m \u001b[32m━━━━━━━━━━━━━━━━━━━━\u001b[0m\u001b[37m\u001b[0m \u001b[1m3s\u001b[0m 15ms/step - accuracy: 1.0000 - loss: 9.4645e-05 - val_accuracy: 1.0000 - val_loss: 1.6711e-04 - learning_rate: 0.0010\n",
            "Epoch 27/50\n",
            "\u001b[1m170/172\u001b[0m \u001b[32m━━━━━━━━━━━━━━━━━━━\u001b[0m\u001b[37m━\u001b[0m \u001b[1m0s\u001b[0m 13ms/step - accuracy: 1.0000 - loss: 8.0083e-05\n",
            "Epoch 27: ReduceLROnPlateau reducing learning rate to 0.00020000000949949026.\n",
            "\n",
            "Epoch 27: val_accuracy did not improve from 1.00000\n",
            "\u001b[1m172/172\u001b[0m \u001b[32m━━━━━━━━━━━━━━━━━━━━\u001b[0m\u001b[37m\u001b[0m \u001b[1m5s\u001b[0m 15ms/step - accuracy: 1.0000 - loss: 8.0076e-05 - val_accuracy: 1.0000 - val_loss: 1.8341e-04 - learning_rate: 0.0010\n",
            "Epoch 28/50\n",
            "\u001b[1m171/172\u001b[0m \u001b[32m━━━━━━━━━━━━━━━━━━━\u001b[0m\u001b[37m━\u001b[0m \u001b[1m0s\u001b[0m 13ms/step - accuracy: 1.0000 - loss: 6.9835e-05\n",
            "Epoch 28: val_accuracy did not improve from 1.00000\n",
            "\u001b[1m172/172\u001b[0m \u001b[32m━━━━━━━━━━━━━━━━━━━━\u001b[0m\u001b[37m\u001b[0m \u001b[1m5s\u001b[0m 15ms/step - accuracy: 1.0000 - loss: 6.9849e-05 - val_accuracy: 1.0000 - val_loss: 1.5721e-04 - learning_rate: 2.0000e-04\n",
            "Epoch 29/50\n",
            "\u001b[1m169/172\u001b[0m \u001b[32m━━━━━━━━━━━━━━━━━━━\u001b[0m\u001b[37m━\u001b[0m \u001b[1m0s\u001b[0m 13ms/step - accuracy: 1.0000 - loss: 7.1527e-05\n",
            "Epoch 29: val_accuracy did not improve from 1.00000\n",
            "\u001b[1m172/172\u001b[0m \u001b[32m━━━━━━━━━━━━━━━━━━━━\u001b[0m\u001b[37m\u001b[0m \u001b[1m2s\u001b[0m 14ms/step - accuracy: 1.0000 - loss: 7.1471e-05 - val_accuracy: 1.0000 - val_loss: 1.4974e-04 - learning_rate: 2.0000e-04\n",
            "Epoch 30/50\n",
            "\u001b[1m172/172\u001b[0m \u001b[32m━━━━━━━━━━━━━━━━━━━━\u001b[0m\u001b[37m\u001b[0m \u001b[1m0s\u001b[0m 13ms/step - accuracy: 1.0000 - loss: 6.6465e-05\n",
            "Epoch 30: val_accuracy did not improve from 1.00000\n",
            "\u001b[1m172/172\u001b[0m \u001b[32m━━━━━━━━━━━━━━━━━━━━\u001b[0m\u001b[37m\u001b[0m \u001b[1m3s\u001b[0m 14ms/step - accuracy: 1.0000 - loss: 6.6470e-05 - val_accuracy: 1.0000 - val_loss: 1.4536e-04 - learning_rate: 2.0000e-04\n",
            "Epoch 31/50\n",
            "\u001b[1m172/172\u001b[0m \u001b[32m━━━━━━━━━━━━━━━━━━━━\u001b[0m\u001b[37m\u001b[0m \u001b[1m0s\u001b[0m 13ms/step - accuracy: 1.0000 - loss: 6.5871e-05\n",
            "Epoch 31: val_accuracy did not improve from 1.00000\n",
            "\u001b[1m172/172\u001b[0m \u001b[32m━━━━━━━━━━━━━━━━━━━━\u001b[0m\u001b[37m\u001b[0m \u001b[1m3s\u001b[0m 15ms/step - accuracy: 1.0000 - loss: 6.5872e-05 - val_accuracy: 1.0000 - val_loss: 1.5084e-04 - learning_rate: 2.0000e-04\n",
            "Epoch 32/50\n",
            "\u001b[1m170/172\u001b[0m \u001b[32m━━━━━━━━━━━━━━━━━━━\u001b[0m\u001b[37m━\u001b[0m \u001b[1m0s\u001b[0m 13ms/step - accuracy: 1.0000 - loss: 6.4683e-05\n",
            "Epoch 32: val_accuracy did not improve from 1.00000\n",
            "\u001b[1m172/172\u001b[0m \u001b[32m━━━━━━━━━━━━━━━━━━━━\u001b[0m\u001b[37m\u001b[0m \u001b[1m3s\u001b[0m 14ms/step - accuracy: 1.0000 - loss: 6.4669e-05 - val_accuracy: 1.0000 - val_loss: 1.4670e-04 - learning_rate: 2.0000e-04\n",
            "Epoch 33/50\n",
            "\u001b[1m171/172\u001b[0m \u001b[32m━━━━━━━━━━━━━━━━━━━\u001b[0m\u001b[37m━\u001b[0m \u001b[1m0s\u001b[0m 13ms/step - accuracy: 1.0000 - loss: 6.1011e-05\n",
            "Epoch 33: val_accuracy did not improve from 1.00000\n",
            "\u001b[1m172/172\u001b[0m \u001b[32m━━━━━━━━━━━━━━━━━━━━\u001b[0m\u001b[37m\u001b[0m \u001b[1m2s\u001b[0m 14ms/step - accuracy: 1.0000 - loss: 6.1024e-05 - val_accuracy: 1.0000 - val_loss: 1.4552e-04 - learning_rate: 2.0000e-04\n",
            "Epoch 34/50\n",
            "\u001b[1m172/172\u001b[0m \u001b[32m━━━━━━━━━━━━━━━━━━━━\u001b[0m\u001b[37m\u001b[0m \u001b[1m0s\u001b[0m 13ms/step - accuracy: 1.0000 - loss: 5.8484e-05\n",
            "Epoch 34: ReduceLROnPlateau reducing learning rate to 0.0001.\n",
            "\n",
            "Epoch 34: val_accuracy did not improve from 1.00000\n",
            "\u001b[1m172/172\u001b[0m \u001b[32m━━━━━━━━━━━━━━━━━━━━\u001b[0m\u001b[37m\u001b[0m \u001b[1m3s\u001b[0m 14ms/step - accuracy: 1.0000 - loss: 5.8495e-05 - val_accuracy: 1.0000 - val_loss: 1.3956e-04 - learning_rate: 2.0000e-04\n",
            "Epoch 35/50\n",
            "\u001b[1m172/172\u001b[0m \u001b[32m━━━━━━━━━━━━━━━━━━━━\u001b[0m\u001b[37m\u001b[0m \u001b[1m0s\u001b[0m 12ms/step - accuracy: 1.0000 - loss: 6.1039e-05\n",
            "Epoch 35: val_accuracy did not improve from 1.00000\n",
            "\u001b[1m172/172\u001b[0m \u001b[32m━━━━━━━━━━━━━━━━━━━━\u001b[0m\u001b[37m\u001b[0m \u001b[1m3s\u001b[0m 15ms/step - accuracy: 1.0000 - loss: 6.1024e-05 - val_accuracy: 1.0000 - val_loss: 1.3819e-04 - learning_rate: 1.0000e-04\n",
            "Epoch 36/50\n",
            "\u001b[1m169/172\u001b[0m \u001b[32m━━━━━━━━━━━━━━━━━━━\u001b[0m\u001b[37m━\u001b[0m \u001b[1m0s\u001b[0m 13ms/step - accuracy: 1.0000 - loss: 5.8463e-05\n",
            "Epoch 36: val_accuracy did not improve from 1.00000\n",
            "\u001b[1m172/172\u001b[0m \u001b[32m━━━━━━━━━━━━━━━━━━━━\u001b[0m\u001b[37m\u001b[0m \u001b[1m3s\u001b[0m 15ms/step - accuracy: 1.0000 - loss: 5.8429e-05 - val_accuracy: 1.0000 - val_loss: 1.3753e-04 - learning_rate: 1.0000e-04\n",
            "Epoch 37/50\n",
            "\u001b[1m171/172\u001b[0m \u001b[32m━━━━━━━━━━━━━━━━━━━\u001b[0m\u001b[37m━\u001b[0m \u001b[1m0s\u001b[0m 13ms/step - accuracy: 1.0000 - loss: 5.6155e-05\n",
            "Epoch 37: val_accuracy did not improve from 1.00000\n",
            "\u001b[1m172/172\u001b[0m \u001b[32m━━━━━━━━━━━━━━━━━━━━\u001b[0m\u001b[37m\u001b[0m \u001b[1m5s\u001b[0m 15ms/step - accuracy: 1.0000 - loss: 5.6157e-05 - val_accuracy: 1.0000 - val_loss: 1.3710e-04 - learning_rate: 1.0000e-04\n",
            "Epoch 38/50\n",
            "\u001b[1m169/172\u001b[0m \u001b[32m━━━━━━━━━━━━━━━━━━━\u001b[0m\u001b[37m━\u001b[0m \u001b[1m0s\u001b[0m 12ms/step - accuracy: 1.0000 - loss: 5.4428e-05\n",
            "Epoch 38: val_accuracy did not improve from 1.00000\n",
            "\u001b[1m172/172\u001b[0m \u001b[32m━━━━━━━━━━━━━━━━━━━━\u001b[0m\u001b[37m\u001b[0m \u001b[1m2s\u001b[0m 14ms/step - accuracy: 1.0000 - loss: 5.4448e-05 - val_accuracy: 1.0000 - val_loss: 1.3330e-04 - learning_rate: 1.0000e-04\n",
            "Epoch 39/50\n",
            "\u001b[1m169/172\u001b[0m \u001b[32m━━━━━━━━━━━━━━━━━━━\u001b[0m\u001b[37m━\u001b[0m \u001b[1m0s\u001b[0m 12ms/step - accuracy: 1.0000 - loss: 5.4538e-05\n",
            "Epoch 39: val_accuracy did not improve from 1.00000\n",
            "\u001b[1m172/172\u001b[0m \u001b[32m━━━━━━━━━━━━━━━━━━━━\u001b[0m\u001b[37m\u001b[0m \u001b[1m2s\u001b[0m 14ms/step - accuracy: 1.0000 - loss: 5.4526e-05 - val_accuracy: 1.0000 - val_loss: 1.2559e-04 - learning_rate: 1.0000e-04\n",
            "Epoch 40/50\n",
            "\u001b[1m169/172\u001b[0m \u001b[32m━━━━━━━━━━━━━━━━━━━\u001b[0m\u001b[37m━\u001b[0m \u001b[1m0s\u001b[0m 13ms/step - accuracy: 1.0000 - loss: 5.3472e-05\n",
            "Epoch 40: val_accuracy did not improve from 1.00000\n",
            "\u001b[1m172/172\u001b[0m \u001b[32m━━━━━━━━━━━━━━━━━━━━\u001b[0m\u001b[37m\u001b[0m \u001b[1m3s\u001b[0m 14ms/step - accuracy: 1.0000 - loss: 5.3456e-05 - val_accuracy: 1.0000 - val_loss: 1.2812e-04 - learning_rate: 1.0000e-04\n",
            "Epoch 41/50\n",
            "\u001b[1m170/172\u001b[0m \u001b[32m━━━━━━━━━━━━━━━━━━━\u001b[0m\u001b[37m━\u001b[0m \u001b[1m0s\u001b[0m 13ms/step - accuracy: 1.0000 - loss: 5.3461e-05\n",
            "Epoch 41: val_accuracy did not improve from 1.00000\n",
            "\u001b[1m172/172\u001b[0m \u001b[32m━━━━━━━━━━━━━━━━━━━━\u001b[0m\u001b[37m\u001b[0m \u001b[1m3s\u001b[0m 15ms/step - accuracy: 1.0000 - loss: 5.3427e-05 - val_accuracy: 1.0000 - val_loss: 1.3142e-04 - learning_rate: 1.0000e-04\n",
            "Epoch 42/50\n",
            "\u001b[1m172/172\u001b[0m \u001b[32m━━━━━━━━━━━━━━━━━━━━\u001b[0m\u001b[37m\u001b[0m \u001b[1m0s\u001b[0m 13ms/step - accuracy: 1.0000 - loss: 5.1218e-05\n",
            "Epoch 42: val_accuracy did not improve from 1.00000\n",
            "\u001b[1m172/172\u001b[0m \u001b[32m━━━━━━━━━━━━━━━━━━━━\u001b[0m\u001b[37m\u001b[0m \u001b[1m5s\u001b[0m 15ms/step - accuracy: 1.0000 - loss: 5.1213e-05 - val_accuracy: 1.0000 - val_loss: 1.2184e-04 - learning_rate: 1.0000e-04\n",
            "Epoch 43/50\n",
            "\u001b[1m172/172\u001b[0m \u001b[32m━━━━━━━━━━━━━━━━━━━━\u001b[0m\u001b[37m\u001b[0m \u001b[1m0s\u001b[0m 14ms/step - accuracy: 1.0000 - loss: 4.9326e-05\n",
            "Epoch 43: val_accuracy did not improve from 1.00000\n",
            "\u001b[1m172/172\u001b[0m \u001b[32m━━━━━━━━━━━━━━━━━━━━\u001b[0m\u001b[37m\u001b[0m \u001b[1m5s\u001b[0m 15ms/step - accuracy: 1.0000 - loss: 4.9325e-05 - val_accuracy: 1.0000 - val_loss: 1.2397e-04 - learning_rate: 1.0000e-04\n",
            "Epoch 44/50\n",
            "\u001b[1m168/172\u001b[0m \u001b[32m━━━━━━━━━━━━━━━━━━━\u001b[0m\u001b[37m━\u001b[0m \u001b[1m0s\u001b[0m 14ms/step - accuracy: 1.0000 - loss: 4.6830e-05\n",
            "Epoch 44: val_accuracy did not improve from 1.00000\n",
            "\u001b[1m172/172\u001b[0m \u001b[32m━━━━━━━━━━━━━━━━━━━━\u001b[0m\u001b[37m\u001b[0m \u001b[1m5s\u001b[0m 16ms/step - accuracy: 1.0000 - loss: 4.6851e-05 - val_accuracy: 1.0000 - val_loss: 1.2712e-04 - learning_rate: 1.0000e-04\n",
            "Epoch 45/50\n",
            "\u001b[1m168/172\u001b[0m \u001b[32m━━━━━━━━━━━━━━━━━━━\u001b[0m\u001b[37m━\u001b[0m \u001b[1m0s\u001b[0m 13ms/step - accuracy: 1.0000 - loss: 4.7031e-05\n",
            "Epoch 45: val_accuracy did not improve from 1.00000\n",
            "\u001b[1m172/172\u001b[0m \u001b[32m━━━━━━━━━━━━━━━━━━━━\u001b[0m\u001b[37m\u001b[0m \u001b[1m2s\u001b[0m 14ms/step - accuracy: 1.0000 - loss: 4.7009e-05 - val_accuracy: 1.0000 - val_loss: 1.2650e-04 - learning_rate: 1.0000e-04\n",
            "Epoch 46/50\n",
            "\u001b[1m169/172\u001b[0m \u001b[32m━━━━━━━━━━━━━━━━━━━\u001b[0m\u001b[37m━\u001b[0m \u001b[1m0s\u001b[0m 13ms/step - accuracy: 1.0000 - loss: 4.4571e-05\n",
            "Epoch 46: val_accuracy did not improve from 1.00000\n",
            "\u001b[1m172/172\u001b[0m \u001b[32m━━━━━━━━━━━━━━━━━━━━\u001b[0m\u001b[37m\u001b[0m \u001b[1m3s\u001b[0m 15ms/step - accuracy: 1.0000 - loss: 4.4579e-05 - val_accuracy: 1.0000 - val_loss: 1.1060e-04 - learning_rate: 1.0000e-04\n",
            "Epoch 47/50\n",
            "\u001b[1m170/172\u001b[0m \u001b[32m━━━━━━━━━━━━━━━━━━━\u001b[0m\u001b[37m━\u001b[0m \u001b[1m0s\u001b[0m 13ms/step - accuracy: 1.0000 - loss: 4.2927e-05\n",
            "Epoch 47: val_accuracy did not improve from 1.00000\n",
            "\u001b[1m172/172\u001b[0m \u001b[32m━━━━━━━━━━━━━━━━━━━━\u001b[0m\u001b[37m\u001b[0m \u001b[1m3s\u001b[0m 15ms/step - accuracy: 1.0000 - loss: 4.2935e-05 - val_accuracy: 1.0000 - val_loss: 1.0835e-04 - learning_rate: 1.0000e-04\n",
            "Epoch 48/50\n",
            "\u001b[1m169/172\u001b[0m \u001b[32m━━━━━━━━━━━━━━━━━━━\u001b[0m\u001b[37m━\u001b[0m \u001b[1m0s\u001b[0m 13ms/step - accuracy: 1.0000 - loss: 4.2642e-05\n",
            "Epoch 48: val_accuracy did not improve from 1.00000\n",
            "\u001b[1m172/172\u001b[0m \u001b[32m━━━━━━━━━━━━━━━━━━━━\u001b[0m\u001b[37m\u001b[0m \u001b[1m5s\u001b[0m 15ms/step - accuracy: 1.0000 - loss: 4.2624e-05 - val_accuracy: 1.0000 - val_loss: 1.0462e-04 - learning_rate: 1.0000e-04\n",
            "Epoch 49/50\n",
            "\u001b[1m170/172\u001b[0m \u001b[32m━━━━━━━━━━━━━━━━━━━\u001b[0m\u001b[37m━\u001b[0m \u001b[1m0s\u001b[0m 13ms/step - accuracy: 1.0000 - loss: 3.8426e-05\n",
            "Epoch 49: val_accuracy did not improve from 1.00000\n",
            "\u001b[1m172/172\u001b[0m \u001b[32m━━━━━━━━━━━━━━━━━━━━\u001b[0m\u001b[37m\u001b[0m \u001b[1m2s\u001b[0m 14ms/step - accuracy: 1.0000 - loss: 3.8454e-05 - val_accuracy: 1.0000 - val_loss: 1.1446e-04 - learning_rate: 1.0000e-04\n",
            "Epoch 50/50\n",
            "\u001b[1m170/172\u001b[0m \u001b[32m━━━━━━━━━━━━━━━━━━━\u001b[0m\u001b[37m━\u001b[0m \u001b[1m0s\u001b[0m 13ms/step - accuracy: 1.0000 - loss: 3.9722e-05\n",
            "Epoch 50: val_accuracy did not improve from 1.00000\n",
            "\u001b[1m172/172\u001b[0m \u001b[32m━━━━━━━━━━━━━━━━━━━━\u001b[0m\u001b[37m\u001b[0m \u001b[1m2s\u001b[0m 14ms/step - accuracy: 1.0000 - loss: 3.9706e-05 - val_accuracy: 1.0000 - val_loss: 1.0786e-04 - learning_rate: 1.0000e-04\n",
            "Restoring model weights from the end of the best epoch: 48.\n"
          ]
        }
      ],
      "source": [
        "history= model.fit(\n",
        "    Xtrain, ytrain, batch_size=128,\n",
        "    epochs= 50,\n",
        "    validation_data= (Xval, yval),\n",
        "    callbacks= callbacks\n",
        "\n",
        ")"
      ]
    },
    {
      "cell_type": "code",
      "execution_count": null,
      "metadata": {
        "colab": {
          "base_uri": "https://localhost:8080/"
        },
        "id": "R7gc_-ZJQNG1",
        "outputId": "3757fd35-a958-4c83-87df-ac545b87883d"
      },
      "outputs": [
        {
          "name": "stdout",
          "output_type": "stream",
          "text": [
            "\u001b[1m225/225\u001b[0m \u001b[32m━━━━━━━━━━━━━━━━━━━━\u001b[0m\u001b[37m\u001b[0m \u001b[1m2s\u001b[0m 5ms/step - accuracy: 0.9280 - loss: 0.2802\n",
            "loss accuracy: 0.9341884851455688\n"
          ]
        }
      ],
      "source": [
        "test_loss, test_acc = model.evaluate(Xtest, ytest)\n",
        "print(f'loss accuracy: {test_acc}')"
      ]
    },
    {
      "cell_type": "code",
      "execution_count": null,
      "metadata": {
        "id": "FzYBrcO2GYvr"
      },
      "outputs": [],
      "source": []
    }
  ],
  "metadata": {
    "accelerator": "GPU",
    "colab": {
      "gpuType": "T4",
      "provenance": []
    },
    "kernelspec": {
      "display_name": "Python 3",
      "name": "python3"
    },
    "language_info": {
      "name": "python"
    }
  },
  "nbformat": 4,
  "nbformat_minor": 0
}
